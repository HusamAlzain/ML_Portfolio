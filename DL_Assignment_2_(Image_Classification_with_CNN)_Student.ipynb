{
  "cells": [
    {
      "cell_type": "markdown",
      "metadata": {
        "id": "view-in-github",
        "colab_type": "text"
      },
      "source": [
        "<a href=\"https://colab.research.google.com/github/HusamAlzain/ML_Portfolio/blob/main/DL_Assignment_2_(Image_Classification_with_CNN)_Student.ipynb\" target=\"_parent\"><img src=\"https://colab.research.google.com/assets/colab-badge.svg\" alt=\"Open In Colab\"/></a>"
      ]
    },
    {
      "cell_type": "markdown",
      "metadata": {
        "id": "9eYFDxqIeZrY"
      },
      "source": [
        "___\n",
        "\n",
        "<p style=\"text-align: center;\"><img src=\"https://docs.google.com/uc?id=1lY0Uj5R04yMY3-ZppPWxqCr5pvBLYPnV\" class=\"img-fluid\" alt=\"CLRSWY\"></p>\n",
        "\n",
        "___"
      ]
    },
    {
      "cell_type": "markdown",
      "metadata": {
        "id": "fmsjRWuweZrc"
      },
      "source": [
        "<h1 style=\"text-align: center;\">Deep Learning<br><br>Assignment-2 (CNN)<br><br>Image Classification with CNN<br><h1>"
      ]
    },
    {
      "cell_type": "markdown",
      "metadata": {
        "id": "y_tTN27meZrd"
      },
      "source": [
        "# Task and Dataset Info\n",
        "\n",
        "Welcome to second assignment of Deep learning lesson. Follow the instructions and complete the assignment.\n",
        "\n",
        "**Build an image classifier with Convolutional Neural Networks for the Fashion MNIST dataset. This data set includes 10 labels of different clothing types with 28 by 28 *grayscale* images. There is a training set of 60,000 images and 10,000 test images.**\n",
        "\n",
        "    Label\tDescription\n",
        "    0\t    T-shirt/top\n",
        "    1\t    Trouser\n",
        "    2\t    Pullover\n",
        "    3\t    Dress\n",
        "    4\t    Coat\n",
        "    5\t    Sandal\n",
        "    6\t    Shirt\n",
        "    7\t    Sneaker\n",
        "    8\t    Bag\n",
        "    9\t    Ankle boot"
      ]
    },
    {
      "cell_type": "markdown",
      "metadata": {
        "id": "QU1KW9CTeZre"
      },
      "source": [
        "# Import Libraries"
      ]
    },
    {
      "cell_type": "code",
      "execution_count": null,
      "metadata": {
        "id": "bin7Whl9eZre"
      },
      "outputs": [],
      "source": [
        "import pandas as pd\n",
        "import numpy as np\n",
        "import matplotlib.pyplot as plt\n",
        "import seaborn as sns\n",
        "import keras\n",
        "import tensorflow as tf"
      ]
    },
    {
      "cell_type": "code",
      "execution_count": null,
      "metadata": {
        "colab": {
          "base_uri": "https://localhost:8080/"
        },
        "id": "VwUWGe82eZrg",
        "outputId": "5d920b8a-0740-4e5e-d358-8677d38e10ef"
      },
      "outputs": [
        {
          "output_type": "stream",
          "name": "stdout",
          "text": [
            "GPU support is enabled for this session.\n"
          ]
        }
      ],
      "source": [
        "if tf.config.list_physical_devices(\"GPU\"):\n",
        "    print(\"GPU support is enabled for this session.\")\n",
        "else:\n",
        "    print(\"CPU will be used for this session.\")"
      ]
    },
    {
      "cell_type": "code",
      "source": [
        "# Set the seed using keras.utils.set_random_seed. This will set:\n",
        "# 1) `numpy` seed\n",
        "# 2) `tensorflow` random seed\n",
        "# 3) `python` random seed\n",
        "SEED = 42\n",
        "keras.utils.set_random_seed(SEED)\n",
        "\n",
        "# This will make TensorFlow ops as deterministic as possible, but it will\n",
        "# affect the overall performance, so it's not enabled by default.\n",
        "# `enable_op_determinism()` is introduced in TensorFlow 2.9.\n",
        "tf.config.experimental.enable_op_determinism()"
      ],
      "metadata": {
        "id": "bmaV3iYjfexz"
      },
      "execution_count": null,
      "outputs": []
    },
    {
      "cell_type": "markdown",
      "metadata": {
        "id": "d8cbt8Q-eZre"
      },
      "source": [
        "# Recognizing and Understanding Data\n",
        "\n"
      ]
    },
    {
      "cell_type": "code",
      "execution_count": null,
      "metadata": {
        "id": "dLsSpzBJeZrf",
        "colab": {
          "base_uri": "https://localhost:8080/"
        },
        "outputId": "54f3c732-07c9-430a-e49a-de4c31282a91"
      },
      "outputs": [
        {
          "output_type": "stream",
          "name": "stdout",
          "text": [
            "Downloading data from https://storage.googleapis.com/tensorflow/tf-keras-datasets/train-labels-idx1-ubyte.gz\n",
            "29515/29515 [==============================] - 0s 0us/step\n",
            "Downloading data from https://storage.googleapis.com/tensorflow/tf-keras-datasets/train-images-idx3-ubyte.gz\n",
            "26421880/26421880 [==============================] - 0s 0us/step\n",
            "Downloading data from https://storage.googleapis.com/tensorflow/tf-keras-datasets/t10k-labels-idx1-ubyte.gz\n",
            "5148/5148 [==============================] - 0s 0us/step\n",
            "Downloading data from https://storage.googleapis.com/tensorflow/tf-keras-datasets/t10k-images-idx3-ubyte.gz\n",
            "4422102/4422102 [==============================] - 0s 0us/step\n"
          ]
        }
      ],
      "source": [
        "from tensorflow.keras.datasets import fashion_mnist\n",
        "\n",
        "(X_train, y_train), (X_test, y_test) = fashion_mnist.load_data()"
      ]
    },
    {
      "cell_type": "code",
      "execution_count": null,
      "metadata": {
        "colab": {
          "base_uri": "https://localhost:8080/"
        },
        "id": "JeiYe7OuzdN6",
        "outputId": "e4aa20fb-a3e3-448a-a3e2-1a7d44e44a46"
      },
      "outputs": [
        {
          "output_type": "stream",
          "name": "stdout",
          "text": [
            "There are 60000 images in the training dataset\n",
            "There are 10000 images in the test dataset\n"
          ]
        }
      ],
      "source": [
        "print(f\"There are {len(X_train)} images in the training dataset\")\n",
        "print(f\"There are {len(X_test)} images in the test dataset\")"
      ]
    },
    {
      "cell_type": "code",
      "execution_count": null,
      "metadata": {
        "colab": {
          "base_uri": "https://localhost:8080/"
        },
        "id": "9FNlcgiTzj1X",
        "outputId": "c4e86829-849e-4e10-9004-c94718dc795c"
      },
      "outputs": [
        {
          "output_type": "execute_result",
          "data": {
            "text/plain": [
              "(28, 28)"
            ]
          },
          "metadata": {},
          "execution_count": 7
        }
      ],
      "source": [
        "# Checking the shape of one image\n",
        "X_train[5].shape"
      ]
    },
    {
      "cell_type": "code",
      "execution_count": null,
      "metadata": {
        "colab": {
          "base_uri": "https://localhost:8080/"
        },
        "id": "fo95HaLhzn9h",
        "outputId": "641970cc-2a1c-4dd3-b1c7-e7b6b96a5916"
      },
      "outputs": [
        {
          "output_type": "execute_result",
          "data": {
            "text/plain": [
              "array([[  0,   0,   0,   0,   1,   0,   0,   0,   0,  22,  88, 188, 172,\n",
              "        132, 125, 141, 199, 143,   9,   0,   0,   0,   1,   0,   0,   0,\n",
              "          0,   0],\n",
              "       [  0,   0,   0,   1,   0,   0,  20, 131, 199, 206, 196, 202, 242,\n",
              "        255, 255, 250, 222, 197, 206, 188, 126,  17,   0,   0,   0,   0,\n",
              "          0,   0],\n",
              "       [  0,   0,   0,   1,   0,  35, 214, 191, 183, 178, 175, 168, 150,\n",
              "        162, 159, 152, 158, 179, 183, 189, 195, 185,  82,   0,   0,   0,\n",
              "          0,   0],\n",
              "       [  0,   0,   0,   0,   0, 170, 190, 172, 177, 176, 171, 169, 162,\n",
              "        155, 148, 154, 169, 174, 175, 175, 177, 183, 188,  12,   0,   0,\n",
              "          0,   0],\n",
              "       [  0,   0,   0,   0,  25, 194, 180, 178, 174, 184, 187, 189, 187,\n",
              "        184, 181, 189, 200, 197, 193, 190, 178, 175, 194,  90,   0,   0,\n",
              "          0,   0],\n",
              "       [  0,   0,   0,   0,  42, 218, 191, 197, 208, 204, 211, 209, 210,\n",
              "        212, 211, 214, 215, 213, 214, 211, 211, 191, 200, 158,   0,   0,\n",
              "          0,   0],\n",
              "       [  0,   0,   0,   0,  88, 221, 215, 217, 219, 211, 185, 150, 118,\n",
              "        107,  99,  88,  83,  90, 135, 212, 203, 207, 219, 169,   0,   0,\n",
              "          0,   0],\n",
              "       [  0,   0,   0,   0,   0,  27, 118, 162,  40,   0,   0,   0,  10,\n",
              "         19,  28,  39,  47,  36,   0,   0, 203, 230, 220, 203,   0,   0,\n",
              "          0,   0],\n",
              "       [  0,   0,   0,   0, 138, 136,  71,  69,  54, 216, 217, 203, 184,\n",
              "        168, 163, 162, 163, 178, 221, 186,  38,  26,   7,   0,   0,   0,\n",
              "          0,   0],\n",
              "       [  0,   0,   0,   0,  67, 134, 154, 224, 129,  66,  81, 117, 129,\n",
              "        128, 132, 137, 131, 129,  86,  73, 157, 151, 134, 216,  18,   0,\n",
              "          0,   0],\n",
              "       [  0,   0,   0,   0, 203, 198, 172, 183, 206, 255, 255, 250, 243,\n",
              "        240, 239, 235, 238, 244, 255, 238, 184, 160,  86,  98,   0,   0,\n",
              "          0,   0],\n",
              "       [  0,   0,   0,   0, 122, 188, 224, 151, 105, 127,  97, 100, 105,\n",
              "        114, 117, 117, 113, 103,  98, 111, 142, 254, 191, 255,  49,   0,\n",
              "          0,   0],\n",
              "       [  0,   0,   0,   0, 163, 179, 200,  95, 154, 198, 197, 200, 200,\n",
              "        198, 197, 198, 199, 202, 200, 176,  86, 206, 157, 162,  10,   0,\n",
              "          0,   0],\n",
              "       [  0,   0,   0,   0, 197, 201, 229,  71, 144, 194, 181, 183, 179,\n",
              "        182, 180, 179, 180, 190, 185, 197,  76, 219, 185, 201,  34,   0,\n",
              "          0,   0],\n",
              "       [  0,   0,   0,   0, 199, 193, 226,  58, 154, 192, 184, 187, 184,\n",
              "        186, 184, 185, 183, 192, 191, 200,  56, 219, 203, 207,  60,   0,\n",
              "          0,   0],\n",
              "       [  0,   0,   0,   0, 201, 194, 224,  41, 163, 190, 186, 186, 184,\n",
              "        185, 183, 185, 178, 190, 194, 202,  33, 211, 200, 206,  73,   0,\n",
              "          0,   0],\n",
              "       [  0,   0,   0,   0, 201, 197, 222,  17, 172, 190, 186, 187, 182,\n",
              "        186, 185, 187, 180, 187, 193, 202,  26, 212, 202, 203,  76,   0,\n",
              "          0,   0],\n",
              "       [  0,   0,   0,   0, 200, 197, 223,   0, 177, 189, 184, 185, 178,\n",
              "        184, 183, 184, 180, 183, 189, 203,  35, 196, 203, 203,  84,   0,\n",
              "          0,   0],\n",
              "       [  0,   0,   0,   0, 200, 197, 223,   0, 185, 187, 185, 187, 180,\n",
              "        184, 182, 183, 178, 182, 183, 205,  44, 159, 207, 201,  85,   0,\n",
              "          0,   0],\n",
              "       [  0,   0,   0,   0, 187, 198, 225,   0, 194, 188, 184, 185, 180,\n",
              "        183, 183, 184, 181, 181, 177, 206,  46, 129, 211, 200,  88,   0,\n",
              "          0,   0],\n",
              "       [  0,   0,   0,   6, 186, 200, 211,   0, 199, 189, 184, 184, 185,\n",
              "        182, 183, 184, 185, 182, 175, 205,  50,  97, 216, 197,  93,   0,\n",
              "          0,   0],\n",
              "       [  0,   0,   0,   5, 185, 204, 184,   0, 202, 188, 182, 182, 183,\n",
              "        183, 184, 182, 180, 182, 174, 202,  63,  59, 220, 196,  94,   0,\n",
              "          0,   0],\n",
              "       [  0,   0,   0,   5, 184, 206, 157,   0, 204, 187, 187, 189, 192,\n",
              "        190, 190, 191, 190, 187, 183, 202,  78,  35, 222, 197,  95,   0,\n",
              "          0,   0],\n",
              "       [  0,   0,   0,   5, 183, 208, 127,   0, 197, 166, 153, 149, 149,\n",
              "        146, 148, 149, 150, 151, 158, 191,  90,   8, 223, 195,  99,   0,\n",
              "          0,   0],\n",
              "       [  0,   0,   0,   6, 184, 208, 114,   0, 204, 173, 161, 180, 176,\n",
              "        172, 173, 173, 174, 176, 162, 202, 115,   0, 229, 199, 105,   0,\n",
              "          0,   0],\n",
              "       [  0,   0,   0,   9, 178, 204, 115,   0, 121, 135, 114, 117, 114,\n",
              "        114, 117, 118, 119, 117, 113, 147,  63,   0, 225, 196, 107,   0,\n",
              "          0,   0],\n",
              "       [  0,   0,   0,  18, 180, 206, 131,   0,   0,   0,   0,   0,   0,\n",
              "          0,   0,   0,   0,   0,   0,   0,   0,   0, 224, 197, 123,   0,\n",
              "          0,   0],\n",
              "       [  0,   0,   0,   0, 141, 151,  76,   0,   1,   1,   0,   0,   0,\n",
              "          0,   0,   0,   0,   0,   0,   0,   0,   0, 133, 167,  73,   0,\n",
              "          0,   0]], dtype=uint8)"
            ]
          },
          "metadata": {},
          "execution_count": 8
        }
      ],
      "source": [
        "X_train[5]"
      ]
    },
    {
      "cell_type": "code",
      "execution_count": null,
      "metadata": {
        "colab": {
          "base_uri": "https://localhost:8080/",
          "height": 430
        },
        "id": "nAlrzyEHzr68",
        "outputId": "30e228f7-d18d-4a5a-e783-341aa145af64"
      },
      "outputs": [
        {
          "output_type": "display_data",
          "data": {
            "text/plain": [
              "<Figure size 640x480 with 1 Axes>"
            ],
            "image/png": "[encoded data removed]"
          },
          "metadata": {}
        }
      ],
      "source": [
        "plt.imshow(X_train[5])\n",
        "plt.show()"
      ]
    },
    {
      "cell_type": "code",
      "execution_count": null,
      "metadata": {
        "colab": {
          "base_uri": "https://localhost:8080/"
        },
        "id": "zP9FMA-D0Dho",
        "outputId": "c0c9fc80-f21c-4ce1-b181-1b68ddf0b481"
      },
      "outputs": [
        {
          "output_type": "execute_result",
          "data": {
            "text/plain": [
              "2"
            ]
          },
          "metadata": {},
          "execution_count": 10
        }
      ],
      "source": [
        "y_train[5]"
      ]
    },
    {
      "cell_type": "code",
      "execution_count": null,
      "metadata": {
        "colab": {
          "base_uri": "https://localhost:8080/"
        },
        "id": "iKDyT-p4duax",
        "outputId": "52826a1e-a245-4128-ce76-4e047d80bb0e"
      },
      "outputs": [
        {
          "output_type": "execute_result",
          "data": {
            "text/plain": [
              "(60000,)"
            ]
          },
          "metadata": {},
          "execution_count": 11
        }
      ],
      "source": [
        "y_train.shape"
      ]
    },
    {
      "cell_type": "code",
      "execution_count": null,
      "metadata": {
        "colab": {
          "base_uri": "https://localhost:8080/"
        },
        "id": "s9K3sg6Vduax",
        "outputId": "d960872b-da01-4989-9453-231a488c0924"
      },
      "outputs": [
        {
          "output_type": "execute_result",
          "data": {
            "text/plain": [
              "array([9, 0, 0, ..., 3, 0, 5], dtype=uint8)"
            ]
          },
          "metadata": {},
          "execution_count": 12
        }
      ],
      "source": [
        "y_train"
      ]
    },
    {
      "cell_type": "code",
      "execution_count": null,
      "metadata": {
        "colab": {
          "base_uri": "https://localhost:8080/"
        },
        "id": "rSfdoMtyduax",
        "outputId": "b7670df2-b90b-48ca-9fc8-b54fd3fb2cc7"
      },
      "outputs": [
        {
          "output_type": "execute_result",
          "data": {
            "text/plain": [
              "(array([0, 1, 2, 3, 4, 5, 6, 7, 8, 9], dtype=uint8),\n",
              " array([6000, 6000, 6000, 6000, 6000, 6000, 6000, 6000, 6000, 6000]))"
            ]
          },
          "metadata": {},
          "execution_count": 13
        }
      ],
      "source": [
        "np.unique(y_train, return_counts=True)"
      ]
    },
    {
      "cell_type": "code",
      "execution_count": null,
      "metadata": {
        "id": "Ivs9CtN2eZrg"
      },
      "outputs": [],
      "source": []
    },
    {
      "cell_type": "markdown",
      "metadata": {
        "id": "5XDkHrVNeZrg"
      },
      "source": [
        " Useing matplotlib to view an image from the data set. It can be any image from the data set."
      ]
    },
    {
      "cell_type": "code",
      "execution_count": null,
      "metadata": {
        "id": "jQsKxlPaeZrg"
      },
      "outputs": [],
      "source": [
        "classes=[\"T-shirt/top\", \"Trouser\",\"Pullover\",\"Dress\",\"Coat\",\"Sandal\",\"Shirt\",\"Sneaker\",\"Bag\",\"Ankle boot\"]"
      ]
    },
    {
      "cell_type": "markdown",
      "source": [
        "### Plotting some images with their labels"
      ],
      "metadata": {
        "id": "S5_UUV07595x"
      }
    },
    {
      "cell_type": "code",
      "execution_count": null,
      "metadata": {
        "colab": {
          "base_uri": "https://localhost:8080/",
          "height": 1000
        },
        "id": "ZVYowVlmeZrh",
        "outputId": "26f78643-efb1-4adf-d39b-9341efd0d282"
      },
      "outputs": [
        {
          "output_type": "display_data",
          "data": {
            "text/plain": [
              "<Figure size 1300x1300 with 64 Axes>"
            ],
            "image/png": "[encoded data removed]"
          },
          "metadata": {}
        }
      ],
      "source": [
        "fig, axes = plt.subplots(8, 8)\n",
        "fig.set_size_inches(13, 13)\n",
        "for ax in axes.flatten():\n",
        "    rand_index = int(np.random.randint(low=0, high=50000, size=1))\n",
        "    ax.axis(\"off\")\n",
        "    ax.set_title(classes[int(y_train[rand_index])])\n",
        "    ax.imshow(X_train[rand_index])\n",
        "plt.show()"
      ]
    },
    {
      "cell_type": "code",
      "execution_count": null,
      "metadata": {
        "id": "AH_s5-3ueZrh"
      },
      "outputs": [],
      "source": []
    },
    {
      "cell_type": "markdown",
      "metadata": {
        "id": "28VuzGcCeZrh"
      },
      "source": [
        "# Data Preprocessing\n",
        "\n"
      ]
    },
    {
      "cell_type": "code",
      "execution_count": null,
      "metadata": {
        "colab": {
          "base_uri": "https://localhost:8080/"
        },
        "id": "_XspA3CDLpm6",
        "outputId": "c1f0a8e8-dfa7-410f-ae80-8f5fac032616"
      },
      "outputs": [
        {
          "output_type": "execute_result",
          "data": {
            "text/plain": [
              "0"
            ]
          },
          "metadata": {},
          "execution_count": 16
        }
      ],
      "source": [
        "X_train[342].min()"
      ]
    },
    {
      "cell_type": "code",
      "execution_count": null,
      "metadata": {
        "colab": {
          "base_uri": "https://localhost:8080/"
        },
        "id": "XJefIibxLqf2",
        "outputId": "e403df0c-e05f-4863-8162-0b2255e9e3be"
      },
      "outputs": [
        {
          "output_type": "execute_result",
          "data": {
            "text/plain": [
              "255"
            ]
          },
          "metadata": {},
          "execution_count": 17
        }
      ],
      "source": [
        "X_train[9].max()"
      ]
    },
    {
      "cell_type": "code",
      "execution_count": null,
      "metadata": {
        "id": "m_eSMmhJFqRA"
      },
      "outputs": [],
      "source": [
        "# Normalize image pixels\n",
        "X_train = X_train.astype(\"float32\")\n",
        "X_test = X_test.astype(\"float32\")\n",
        "X_train /= 255\n",
        "X_test /= 255"
      ]
    },
    {
      "cell_type": "code",
      "execution_count": null,
      "metadata": {
        "colab": {
          "base_uri": "https://localhost:8080/"
        },
        "id": "-NqymetKL1Lb",
        "outputId": "089415a5-0dd5-4667-eba8-19a697ab1e3b"
      },
      "outputs": [
        {
          "output_type": "execute_result",
          "data": {
            "text/plain": [
              "0.0"
            ]
          },
          "metadata": {},
          "execution_count": 19
        }
      ],
      "source": [
        "X_train[9].min()"
      ]
    },
    {
      "cell_type": "code",
      "execution_count": null,
      "metadata": {
        "colab": {
          "base_uri": "https://localhost:8080/"
        },
        "id": "SOU_kW9nL1OD",
        "outputId": "58a1182f-7a52-4a17-cef8-ef275f3e033a"
      },
      "outputs": [
        {
          "output_type": "execute_result",
          "data": {
            "text/plain": [
              "1.0"
            ]
          },
          "metadata": {},
          "execution_count": 20
        }
      ],
      "source": [
        "X_train[9].max()"
      ]
    },
    {
      "cell_type": "code",
      "source": [
        "plt.imshow(X_train[9], cmap=\"gray\")\n",
        "plt.show()"
      ],
      "metadata": {
        "colab": {
          "base_uri": "https://localhost:8080/",
          "height": 430
        },
        "id": "GTHCwNnTmBdf",
        "outputId": "03cb9b0c-b930-4c59-b61f-4f5d53537caa"
      },
      "execution_count": null,
      "outputs": [
        {
          "output_type": "display_data",
          "data": {
            "text/plain": [
              "<Figure size 640x480 with 1 Axes>"
            ],
            "image/png": "[encoded data removed]"
          },
          "metadata": {}
        }
      ]
    },
    {
      "cell_type": "code",
      "execution_count": null,
      "metadata": {
        "colab": {
          "base_uri": "https://localhost:8080/"
        },
        "id": "sIlFJOZgq7x8",
        "outputId": "b38fd2f8-0be9-483f-cd09-eb4e18a69228"
      },
      "outputs": [
        {
          "output_type": "execute_result",
          "data": {
            "text/plain": [
              "((60000, 28, 28), (10000, 28, 28))"
            ]
          },
          "metadata": {},
          "execution_count": 22
        }
      ],
      "source": [
        "X_train.shape, X_test.shape"
      ]
    },
    {
      "cell_type": "code",
      "execution_count": null,
      "metadata": {
        "id": "Os3b36qaeJG1",
        "outputId": "b42924b2-86bb-401a-83f4-067e1945bb9d",
        "colab": {
          "base_uri": "https://localhost:8080/"
        }
      },
      "outputs": [
        {
          "output_type": "execute_result",
          "data": {
            "text/plain": [
              "(60000, 28, 28, 1)"
            ]
          },
          "metadata": {},
          "execution_count": 23
        }
      ],
      "source": [
        "np.expand_dims(X_train, 3).shape"
      ]
    },
    {
      "cell_type": "markdown",
      "metadata": {
        "id": "Sck0f7tIeZri"
      },
      "source": [
        "\n",
        "Reshaping the X arrays to include a 4 dimension of the single channel. Similar to what we did for the numbers MNIST data set."
      ]
    },
    {
      "cell_type": "code",
      "source": [
        "X_train = np.expand_dims(X_train, 3)\n",
        "X_test = np.expand_dims(X_test, 3)\n",
        "X_train.shape, X_test.shape"
      ],
      "metadata": {
        "colab": {
          "base_uri": "https://localhost:8080/"
        },
        "id": "zxRLTnifnHI5",
        "outputId": "44a7bf1b-fe3f-4e2e-b535-98b967e7502d"
      },
      "execution_count": null,
      "outputs": [
        {
          "output_type": "execute_result",
          "data": {
            "text/plain": [
              "((60000, 28, 28, 1), (10000, 28, 28, 1))"
            ]
          },
          "metadata": {},
          "execution_count": 24
        }
      ]
    },
    {
      "cell_type": "markdown",
      "source": [
        "**Validation Data**"
      ],
      "metadata": {
        "id": "DsEbxwjuCFM-"
      }
    },
    {
      "cell_type": "code",
      "execution_count": null,
      "metadata": {
        "id": "WL6Z1VK5eZri"
      },
      "outputs": [],
      "source": [
        "from keras.utils import to_categorical"
      ]
    },
    {
      "cell_type": "code",
      "execution_count": null,
      "metadata": {
        "id": "QaFHvIuFeZri",
        "colab": {
          "base_uri": "https://localhost:8080/"
        },
        "outputId": "6924a235-2c68-4fe9-f285-b1e68f69341f"
      },
      "outputs": [
        {
          "output_type": "execute_result",
          "data": {
            "text/plain": [
              "(60000, 10)"
            ]
          },
          "metadata": {},
          "execution_count": 26
        }
      ],
      "source": [
        "Y_train = to_categorical(y_train, 10)\n",
        "Y_test = to_categorical(y_test, 10)\n",
        "Y_train.shape"
      ]
    },
    {
      "cell_type": "code",
      "execution_count": null,
      "metadata": {
        "colab": {
          "base_uri": "https://localhost:8080/"
        },
        "id": "7ksNIyqiq7x-",
        "outputId": "0f206903-ca38-45b9-a35f-955c2dfec992"
      },
      "outputs": [
        {
          "output_type": "execute_result",
          "data": {
            "text/plain": [
              "5"
            ]
          },
          "metadata": {},
          "execution_count": 27
        }
      ],
      "source": [
        "y_train[9]"
      ]
    },
    {
      "cell_type": "code",
      "execution_count": null,
      "metadata": {
        "colab": {
          "base_uri": "https://localhost:8080/"
        },
        "id": "Wb9d9jiVq7x-",
        "outputId": "b391c6d0-f446-44da-dd2c-138d4656b718"
      },
      "outputs": [
        {
          "output_type": "execute_result",
          "data": {
            "text/plain": [
              "array([0., 0., 0., 0., 0., 1., 0., 0., 0., 0.], dtype=float32)"
            ]
          },
          "metadata": {},
          "execution_count": 28
        }
      ],
      "source": [
        "Y_train[9]"
      ]
    },
    {
      "cell_type": "code",
      "execution_count": null,
      "metadata": {
        "colab": {
          "base_uri": "https://localhost:8080/"
        },
        "id": "-_i4A3IaeZri",
        "outputId": "b617c852-7883-47b8-e497-79a86a0e67d6"
      },
      "outputs": [
        {
          "output_type": "stream",
          "name": "stdout",
          "text": [
            "X_train shape ->  (60000, 28, 28, 1)\n",
            "Y_train shape ->  (60000, 10)\n",
            "X_test shape ->  (10000, 28, 28, 1)\n",
            "Y_test shape ->  (10000, 10)\n"
          ]
        }
      ],
      "source": [
        "print(\"X_train shape -> \", X_train.shape)\n",
        "print(\"Y_train shape -> \", Y_train.shape)\n",
        "print(\"X_test shape -> \", X_test.shape)\n",
        "print(\"Y_test shape -> \", Y_test.shape)"
      ]
    },
    {
      "cell_type": "markdown",
      "metadata": {
        "id": "wwNPWW-VeZri"
      },
      "source": [
        "# Modeling"
      ]
    },
    {
      "cell_type": "markdown",
      "metadata": {
        "id": "lii8wQdTeZrj"
      },
      "source": [
        "## Create the model\n"
      ]
    },
    {
      "cell_type": "code",
      "source": [
        "print(\"X_train shape -> \", X_train.shape)\n",
        "print(\"Y_train shape -> \", Y_train.shape)\n",
        "print(\"X_test shape -> \", X_test.shape)\n",
        "print(\"Y_test shape -> \", Y_test.shape)"
      ],
      "metadata": {
        "colab": {
          "base_uri": "https://localhost:8080/"
        },
        "id": "xkgC7_DGn47a",
        "outputId": "d6abe074-94e1-4c8a-d871-2e993b3f10b9"
      },
      "execution_count": null,
      "outputs": [
        {
          "output_type": "stream",
          "name": "stdout",
          "text": [
            "X_train shape ->  (60000, 28, 28, 1)\n",
            "Y_train shape ->  (60000, 10)\n",
            "X_test shape ->  (10000, 28, 28, 1)\n",
            "Y_test shape ->  (10000, 10)\n"
          ]
        }
      ]
    },
    {
      "cell_type": "code",
      "execution_count": null,
      "metadata": {
        "id": "8JKI7wwyeZrj"
      },
      "outputs": [],
      "source": [
        "from keras.models import Sequential\n",
        "from keras.layers import Dense, Conv2D, MaxPool2D, Flatten, Dropout, MaxPooling2D\n",
        "from keras.regularizers import l2\n",
        "\n",
        "model = Sequential()\n",
        "model.add(Conv2D(64, (3, 3), activation='relu'))\n",
        "model.add(MaxPooling2D((2, 2)))\n",
        "\n",
        "model.add(Flatten())\n",
        "\n",
        "model.add(Dense(128, activation=\"relu\", kernel_regularizer=l2(0.01)))\n",
        "model.add(Dropout(0.2))\n",
        "model.add(Dense(10, activation=\"softmax\"))\n"
      ]
    },
    {
      "cell_type": "markdown",
      "metadata": {
        "id": "C_jERHtOeZrk"
      },
      "source": [
        "##  Model Training\n",
        "\n"
      ]
    },
    {
      "cell_type": "code",
      "execution_count": null,
      "metadata": {
        "id": "6xs0QCopeZrk"
      },
      "outputs": [],
      "source": [
        "model.compile(loss=\"categorical_crossentropy\", optimizer=\"rmsprop\", metrics=[\"accuracy\"])"
      ]
    },
    {
      "cell_type": "code",
      "execution_count": null,
      "metadata": {
        "id": "hOuwgRVZGEAu"
      },
      "outputs": [],
      "source": [
        "from tensorflow.keras.callbacks import EarlyStopping"
      ]
    },
    {
      "cell_type": "code",
      "execution_count": null,
      "metadata": {
        "id": "rtIURzRFGEDN"
      },
      "outputs": [],
      "source": [
        "early_stop = EarlyStopping(\n",
        "    monitor=\"val_accuracy\", mode=\"max\", patience=13, restore_best_weights=True\n",
        ")"
      ]
    },
    {
      "cell_type": "code",
      "execution_count": null,
      "metadata": {
        "colab": {
          "base_uri": "https://localhost:8080/"
        },
        "id": "6rloOIEneZrk",
        "outputId": "f291661b-4c4b-4ef7-f5b3-69025addb11b"
      },
      "outputs": [
        {
          "output_type": "stream",
          "name": "stdout",
          "text": [
            "Epoch 1/100\n",
            "469/469 [==============================] - 4s 7ms/step - loss: 0.9526 - accuracy: 0.7529 - val_loss: 0.6284 - val_accuracy: 0.8322\n",
            "Epoch 2/100\n",
            "469/469 [==============================] - 3s 6ms/step - loss: 0.6648 - accuracy: 0.8108 - val_loss: 0.7220 - val_accuracy: 0.7972\n",
            "Epoch 3/100\n",
            "469/469 [==============================] - 3s 6ms/step - loss: 0.6100 - accuracy: 0.8287 - val_loss: 0.6271 - val_accuracy: 0.8060\n",
            "Epoch 4/100\n",
            "469/469 [==============================] - 3s 7ms/step - loss: 0.5782 - accuracy: 0.8384 - val_loss: 0.6321 - val_accuracy: 0.8095\n",
            "Epoch 5/100\n",
            "469/469 [==============================] - 3s 6ms/step - loss: 0.5588 - accuracy: 0.8435 - val_loss: 0.5526 - val_accuracy: 0.8386\n",
            "Epoch 6/100\n",
            "469/469 [==============================] - 3s 6ms/step - loss: 0.5442 - accuracy: 0.8490 - val_loss: 0.5889 - val_accuracy: 0.8148\n",
            "Epoch 7/100\n",
            "469/469 [==============================] - 3s 6ms/step - loss: 0.5292 - accuracy: 0.8532 - val_loss: 0.5489 - val_accuracy: 0.8376\n",
            "Epoch 8/100\n",
            "469/469 [==============================] - 3s 6ms/step - loss: 0.5115 - accuracy: 0.8591 - val_loss: 0.5050 - val_accuracy: 0.8612\n",
            "Epoch 9/100\n",
            "469/469 [==============================] - 3s 6ms/step - loss: 0.5007 - accuracy: 0.8602 - val_loss: 0.5143 - val_accuracy: 0.8573\n",
            "Epoch 10/100\n",
            "469/469 [==============================] - 3s 6ms/step - loss: 0.4948 - accuracy: 0.8631 - val_loss: 0.5180 - val_accuracy: 0.8437\n",
            "Epoch 11/100\n",
            "469/469 [==============================] - 3s 7ms/step - loss: 0.4862 - accuracy: 0.8650 - val_loss: 0.4949 - val_accuracy: 0.8582\n",
            "Epoch 12/100\n",
            "469/469 [==============================] - 3s 6ms/step - loss: 0.4823 - accuracy: 0.8673 - val_loss: 0.4843 - val_accuracy: 0.8660\n",
            "Epoch 13/100\n",
            "469/469 [==============================] - 3s 6ms/step - loss: 0.4733 - accuracy: 0.8706 - val_loss: 0.4794 - val_accuracy: 0.8671\n",
            "Epoch 14/100\n",
            "469/469 [==============================] - 3s 6ms/step - loss: 0.4642 - accuracy: 0.8720 - val_loss: 0.4440 - val_accuracy: 0.8757\n",
            "Epoch 15/100\n",
            "469/469 [==============================] - 3s 6ms/step - loss: 0.4577 - accuracy: 0.8729 - val_loss: 0.4495 - val_accuracy: 0.8752\n",
            "Epoch 16/100\n",
            "469/469 [==============================] - 3s 6ms/step - loss: 0.4556 - accuracy: 0.8731 - val_loss: 0.4778 - val_accuracy: 0.8667\n",
            "Epoch 17/100\n",
            "469/469 [==============================] - 3s 6ms/step - loss: 0.4535 - accuracy: 0.8747 - val_loss: 0.4560 - val_accuracy: 0.8737\n",
            "Epoch 18/100\n",
            "469/469 [==============================] - 3s 6ms/step - loss: 0.4498 - accuracy: 0.8764 - val_loss: 0.4497 - val_accuracy: 0.8752\n",
            "Epoch 19/100\n",
            "469/469 [==============================] - 3s 6ms/step - loss: 0.4474 - accuracy: 0.8770 - val_loss: 0.4275 - val_accuracy: 0.8810\n",
            "Epoch 20/100\n",
            "469/469 [==============================] - 3s 6ms/step - loss: 0.4466 - accuracy: 0.8762 - val_loss: 0.4628 - val_accuracy: 0.8657\n",
            "Epoch 21/100\n",
            "469/469 [==============================] - 3s 6ms/step - loss: 0.4453 - accuracy: 0.8767 - val_loss: 0.4831 - val_accuracy: 0.8615\n",
            "Epoch 22/100\n",
            "469/469 [==============================] - 3s 6ms/step - loss: 0.4440 - accuracy: 0.8783 - val_loss: 0.4700 - val_accuracy: 0.8646\n",
            "Epoch 23/100\n",
            "469/469 [==============================] - 3s 6ms/step - loss: 0.4434 - accuracy: 0.8787 - val_loss: 0.4410 - val_accuracy: 0.8819\n",
            "Epoch 24/100\n",
            "469/469 [==============================] - 3s 6ms/step - loss: 0.4438 - accuracy: 0.8773 - val_loss: 0.4430 - val_accuracy: 0.8784\n",
            "Epoch 25/100\n",
            "469/469 [==============================] - 3s 6ms/step - loss: 0.4425 - accuracy: 0.8784 - val_loss: 0.4267 - val_accuracy: 0.8806\n",
            "Epoch 26/100\n",
            "469/469 [==============================] - 3s 7ms/step - loss: 0.4408 - accuracy: 0.8797 - val_loss: 0.4857 - val_accuracy: 0.8637\n",
            "Epoch 27/100\n",
            "469/469 [==============================] - 3s 6ms/step - loss: 0.4400 - accuracy: 0.8790 - val_loss: 0.4257 - val_accuracy: 0.8809\n",
            "Epoch 28/100\n",
            "469/469 [==============================] - 3s 6ms/step - loss: 0.4384 - accuracy: 0.8808 - val_loss: 0.4268 - val_accuracy: 0.8806\n",
            "Epoch 29/100\n",
            "469/469 [==============================] - 3s 6ms/step - loss: 0.4336 - accuracy: 0.8801 - val_loss: 0.4329 - val_accuracy: 0.8798\n",
            "Epoch 30/100\n",
            "469/469 [==============================] - 3s 7ms/step - loss: 0.4319 - accuracy: 0.8815 - val_loss: 0.4531 - val_accuracy: 0.8740\n",
            "Epoch 31/100\n",
            "469/469 [==============================] - 3s 6ms/step - loss: 0.4298 - accuracy: 0.8824 - val_loss: 0.4350 - val_accuracy: 0.8793\n",
            "Epoch 32/100\n",
            "469/469 [==============================] - 3s 6ms/step - loss: 0.4307 - accuracy: 0.8820 - val_loss: 0.4577 - val_accuracy: 0.8722\n",
            "Epoch 33/100\n",
            "469/469 [==============================] - 3s 6ms/step - loss: 0.4301 - accuracy: 0.8816 - val_loss: 0.4663 - val_accuracy: 0.8749\n",
            "Epoch 34/100\n",
            "469/469 [==============================] - 3s 7ms/step - loss: 0.4300 - accuracy: 0.8820 - val_loss: 0.4423 - val_accuracy: 0.8723\n",
            "Epoch 35/100\n",
            "469/469 [==============================] - 3s 6ms/step - loss: 0.4283 - accuracy: 0.8826 - val_loss: 0.4452 - val_accuracy: 0.8788\n",
            "Epoch 36/100\n",
            "469/469 [==============================] - 3s 6ms/step - loss: 0.4264 - accuracy: 0.8837 - val_loss: 0.4127 - val_accuracy: 0.8858\n",
            "Epoch 37/100\n",
            "469/469 [==============================] - 3s 6ms/step - loss: 0.4277 - accuracy: 0.8824 - val_loss: 0.4246 - val_accuracy: 0.8822\n",
            "Epoch 38/100\n",
            "469/469 [==============================] - 3s 6ms/step - loss: 0.4273 - accuracy: 0.8833 - val_loss: 0.4471 - val_accuracy: 0.8744\n",
            "Epoch 39/100\n",
            "469/469 [==============================] - 3s 7ms/step - loss: 0.4291 - accuracy: 0.8834 - val_loss: 0.4629 - val_accuracy: 0.8715\n",
            "Epoch 40/100\n",
            "469/469 [==============================] - 3s 6ms/step - loss: 0.4273 - accuracy: 0.8827 - val_loss: 0.4548 - val_accuracy: 0.8684\n",
            "Epoch 41/100\n",
            "469/469 [==============================] - 3s 6ms/step - loss: 0.4243 - accuracy: 0.8852 - val_loss: 0.4203 - val_accuracy: 0.8834\n",
            "Epoch 42/100\n",
            "469/469 [==============================] - 3s 6ms/step - loss: 0.4252 - accuracy: 0.8839 - val_loss: 0.4257 - val_accuracy: 0.8823\n",
            "Epoch 43/100\n",
            "469/469 [==============================] - 3s 6ms/step - loss: 0.4244 - accuracy: 0.8850 - val_loss: 0.4513 - val_accuracy: 0.8739\n",
            "Epoch 44/100\n",
            "469/469 [==============================] - 3s 6ms/step - loss: 0.4238 - accuracy: 0.8847 - val_loss: 0.4395 - val_accuracy: 0.8758\n",
            "Epoch 45/100\n",
            "469/469 [==============================] - 3s 6ms/step - loss: 0.4254 - accuracy: 0.8850 - val_loss: 0.4182 - val_accuracy: 0.8856\n",
            "Epoch 46/100\n",
            "469/469 [==============================] - 3s 6ms/step - loss: 0.4241 - accuracy: 0.8848 - val_loss: 0.4275 - val_accuracy: 0.8767\n",
            "Epoch 47/100\n",
            "469/469 [==============================] - 3s 6ms/step - loss: 0.4240 - accuracy: 0.8853 - val_loss: 0.4327 - val_accuracy: 0.8808\n",
            "Epoch 48/100\n",
            "469/469 [==============================] - 3s 6ms/step - loss: 0.4235 - accuracy: 0.8844 - val_loss: 0.4204 - val_accuracy: 0.8818\n",
            "Epoch 49/100\n",
            "469/469 [==============================] - 3s 6ms/step - loss: 0.4193 - accuracy: 0.8848 - val_loss: 0.4344 - val_accuracy: 0.8828\n"
          ]
        },
        {
          "output_type": "execute_result",
          "data": {
            "text/plain": [
              "<keras.src.callbacks.History at 0x7d0c64172110>"
            ]
          },
          "metadata": {},
          "execution_count": 49
        }
      ],
      "source": [
        "model.fit(X_train,\n",
        "          Y_train,\n",
        "          batch_size=128,\n",
        "          epochs=100,\n",
        "          validation_data=(X_test, Y_test),\n",
        "          callbacks=[early_stop],\n",
        "          verbose=1)"
      ]
    },
    {
      "cell_type": "code",
      "execution_count": null,
      "metadata": {
        "colab": {
          "base_uri": "https://localhost:8080/",
          "height": 206
        },
        "id": "2zYPEYGK2qyc",
        "outputId": "46f7a34b-a44e-4c8a-c947-db1902bfadef"
      },
      "outputs": [
        {
          "output_type": "execute_result",
          "data": {
            "text/plain": [
              "       loss  accuracy  val_loss  val_accuracy\n",
              "0  0.952598  0.752933  0.628435        0.8322\n",
              "1  0.664787  0.810767  0.722026        0.7972\n",
              "2  0.610038  0.828700  0.627104        0.8060\n",
              "3  0.578237  0.838367  0.632139        0.8095\n",
              "4  0.558817  0.843450  0.552585        0.8386"
            ],
            "text/html": [
              "\n",
              "  <div id=\"df-96300637-b7bd-4dfd-87f4-499097901d20\" class=\"colab-df-container\">\n",
              "    <div>\n",
              "<style scoped>\n",
              "    .dataframe tbody tr th:only-of-type {\n",
              "        vertical-align: middle;\n",
              "    }\n",
              "\n",
              "    .dataframe tbody tr th {\n",
              "        vertical-align: top;\n",
              "    }\n",
              "\n",
              "    .dataframe thead th {\n",
              "        text-align: right;\n",
              "    }\n",
              "</style>\n",
              "<table border=\"1\" class=\"dataframe\">\n",
              "  <thead>\n",
              "    <tr style=\"text-align: right;\">\n",
              "      <th></th>\n",
              "      <th>loss</th>\n",
              "      <th>accuracy</th>\n",
              "      <th>val_loss</th>\n",
              "      <th>val_accuracy</th>\n",
              "    </tr>\n",
              "  </thead>\n",
              "  <tbody>\n",
              "    <tr>\n",
              "      <th>0</th>\n",
              "      <td>0.952598</td>\n",
              "      <td>0.752933</td>\n",
              "      <td>0.628435</td>\n",
              "      <td>0.8322</td>\n",
              "    </tr>\n",
              "    <tr>\n",
              "      <th>1</th>\n",
              "      <td>0.664787</td>\n",
              "      <td>0.810767</td>\n",
              "      <td>0.722026</td>\n",
              "      <td>0.7972</td>\n",
              "    </tr>\n",
              "    <tr>\n",
              "      <th>2</th>\n",
              "      <td>0.610038</td>\n",
              "      <td>0.828700</td>\n",
              "      <td>0.627104</td>\n",
              "      <td>0.8060</td>\n",
              "    </tr>\n",
              "    <tr>\n",
              "      <th>3</th>\n",
              "      <td>0.578237</td>\n",
              "      <td>0.838367</td>\n",
              "      <td>0.632139</td>\n",
              "      <td>0.8095</td>\n",
              "    </tr>\n",
              "    <tr>\n",
              "      <th>4</th>\n",
              "      <td>0.558817</td>\n",
              "      <td>0.843450</td>\n",
              "      <td>0.552585</td>\n",
              "      <td>0.8386</td>\n",
              "    </tr>\n",
              "  </tbody>\n",
              "</table>\n",
              "</div>\n",
              "    <div class=\"colab-df-buttons\">\n",
              "\n",
              "  <div class=\"colab-df-container\">\n",
              "    <button class=\"colab-df-convert\" onclick=\"convertToInteractive('df-96300637-b7bd-4dfd-87f4-499097901d20')\"\n",
              "            title=\"Convert this dataframe to an interactive table.\"\n",
              "            style=\"display:none;\">\n",
              "\n",
              "  <svg xmlns=\"http://www.w3.org/2000/svg\" height=\"24px\" viewBox=\"0 -960 960 960\">\n",
              "    <path d=\"M120-120v-720h720v720H120Zm60-500h600v-160H180v160Zm220 220h160v-160H400v160Zm0 220h160v-160H400v160ZM180-400h160v-160H180v160Zm440 0h160v-160H620v160ZM180-180h160v-160H180v160Zm440 0h160v-160H620v160Z\"/>\n",
              "  </svg>\n",
              "    </button>\n",
              "\n",
              "  <style>\n",
              "    .colab-df-container {\n",
              "      display:flex;\n",
              "      gap: 12px;\n",
              "    }\n",
              "\n",
              "    .colab-df-convert {\n",
              "      background-color: #E8F0FE;\n",
              "      border: none;\n",
              "      border-radius: 50%;\n",
              "      cursor: pointer;\n",
              "      display: none;\n",
              "      fill: #1967D2;\n",
              "      height: 32px;\n",
              "      padding: 0 0 0 0;\n",
              "      width: 32px;\n",
              "    }\n",
              "\n",
              "    .colab-df-convert:hover {\n",
              "      background-color: #E2EBFA;\n",
              "      box-shadow: 0px 1px 2px rgba(60, 64, 67, 0.3), 0px 1px 3px 1px rgba(60, 64, 67, 0.15);\n",
              "      fill: #174EA6;\n",
              "    }\n",
              "\n",
              "    .colab-df-buttons div {\n",
              "      margin-bottom: 4px;\n",
              "    }\n",
              "\n",
              "    [theme=dark] .colab-df-convert {\n",
              "      background-color: #3B4455;\n",
              "      fill: #D2E3FC;\n",
              "    }\n",
              "\n",
              "    [theme=dark] .colab-df-convert:hover {\n",
              "      background-color: #434B5C;\n",
              "      box-shadow: 0px 1px 3px 1px rgba(0, 0, 0, 0.15);\n",
              "      filter: drop-shadow(0px 1px 2px rgba(0, 0, 0, 0.3));\n",
              "      fill: #FFFFFF;\n",
              "    }\n",
              "  </style>\n",
              "\n",
              "    <script>\n",
              "      const buttonEl =\n",
              "        document.querySelector('#df-96300637-b7bd-4dfd-87f4-499097901d20 button.colab-df-convert');\n",
              "      buttonEl.style.display =\n",
              "        google.colab.kernel.accessAllowed ? 'block' : 'none';\n",
              "\n",
              "      async function convertToInteractive(key) {\n",
              "        const element = document.querySelector('#df-96300637-b7bd-4dfd-87f4-499097901d20');\n",
              "        const dataTable =\n",
              "          await google.colab.kernel.invokeFunction('convertToInteractive',\n",
              "                                                    [key], {});\n",
              "        if (!dataTable) return;\n",
              "\n",
              "        const docLinkHtml = 'Like what you see? Visit the ' +\n",
              "          '<a target=\"_blank\" href=https://colab.research.google.com/notebooks/data_table.ipynb>data table notebook</a>'\n",
              "          + ' to learn more about interactive tables.';\n",
              "        element.innerHTML = '';\n",
              "        dataTable['output_type'] = 'display_data';\n",
              "        await google.colab.output.renderOutput(dataTable, element);\n",
              "        const docLink = document.createElement('div');\n",
              "        docLink.innerHTML = docLinkHtml;\n",
              "        element.appendChild(docLink);\n",
              "      }\n",
              "    </script>\n",
              "  </div>\n",
              "\n",
              "\n",
              "<div id=\"df-38141708-ba8c-47d0-b251-7b8ac20a9c56\">\n",
              "  <button class=\"colab-df-quickchart\" onclick=\"quickchart('df-38141708-ba8c-47d0-b251-7b8ac20a9c56')\"\n",
              "            title=\"Suggest charts.\"\n",
              "            style=\"display:none;\">\n",
              "\n",
              "<svg xmlns=\"http://www.w3.org/2000/svg\" height=\"24px\"viewBox=\"0 0 24 24\"\n",
              "     width=\"24px\">\n",
              "    <g>\n",
              "        <path d=\"M19 3H5c-1.1 0-2 .9-2 2v14c0 1.1.9 2 2 2h14c1.1 0 2-.9 2-2V5c0-1.1-.9-2-2-2zM9 17H7v-7h2v7zm4 0h-2V7h2v10zm4 0h-2v-4h2v4z\"/>\n",
              "    </g>\n",
              "</svg>\n",
              "  </button>\n",
              "\n",
              "<style>\n",
              "  .colab-df-quickchart {\n",
              "      --bg-color: #E8F0FE;\n",
              "      --fill-color: #1967D2;\n",
              "      --hover-bg-color: #E2EBFA;\n",
              "      --hover-fill-color: #174EA6;\n",
              "      --disabled-fill-color: #AAA;\n",
              "      --disabled-bg-color: #DDD;\n",
              "  }\n",
              "\n",
              "  [theme=dark] .colab-df-quickchart {\n",
              "      --bg-color: #3B4455;\n",
              "      --fill-color: #D2E3FC;\n",
              "      --hover-bg-color: #434B5C;\n",
              "      --hover-fill-color: #FFFFFF;\n",
              "      --disabled-bg-color: #3B4455;\n",
              "      --disabled-fill-color: #666;\n",
              "  }\n",
              "\n",
              "  .colab-df-quickchart {\n",
              "    background-color: var(--bg-color);\n",
              "    border: none;\n",
              "    border-radius: 50%;\n",
              "    cursor: pointer;\n",
              "    display: none;\n",
              "    fill: var(--fill-color);\n",
              "    height: 32px;\n",
              "    padding: 0;\n",
              "    width: 32px;\n",
              "  }\n",
              "\n",
              "  .colab-df-quickchart:hover {\n",
              "    background-color: var(--hover-bg-color);\n",
              "    box-shadow: 0 1px 2px rgba(60, 64, 67, 0.3), 0 1px 3px 1px rgba(60, 64, 67, 0.15);\n",
              "    fill: var(--button-hover-fill-color);\n",
              "  }\n",
              "\n",
              "  .colab-df-quickchart-complete:disabled,\n",
              "  .colab-df-quickchart-complete:disabled:hover {\n",
              "    background-color: var(--disabled-bg-color);\n",
              "    fill: var(--disabled-fill-color);\n",
              "    box-shadow: none;\n",
              "  }\n",
              "\n",
              "  .colab-df-spinner {\n",
              "    border: 2px solid var(--fill-color);\n",
              "    border-color: transparent;\n",
              "    border-bottom-color: var(--fill-color);\n",
              "    animation:\n",
              "      spin 1s steps(1) infinite;\n",
              "  }\n",
              "\n",
              "  @keyframes spin {\n",
              "    0% {\n",
              "      border-color: transparent;\n",
              "      border-bottom-color: var(--fill-color);\n",
              "      border-left-color: var(--fill-color);\n",
              "    }\n",
              "    20% {\n",
              "      border-color: transparent;\n",
              "      border-left-color: var(--fill-color);\n",
              "      border-top-color: var(--fill-color);\n",
              "    }\n",
              "    30% {\n",
              "      border-color: transparent;\n",
              "      border-left-color: var(--fill-color);\n",
              "      border-top-color: var(--fill-color);\n",
              "      border-right-color: var(--fill-color);\n",
              "    }\n",
              "    40% {\n",
              "      border-color: transparent;\n",
              "      border-right-color: var(--fill-color);\n",
              "      border-top-color: var(--fill-color);\n",
              "    }\n",
              "    60% {\n",
              "      border-color: transparent;\n",
              "      border-right-color: var(--fill-color);\n",
              "    }\n",
              "    80% {\n",
              "      border-color: transparent;\n",
              "      border-right-color: var(--fill-color);\n",
              "      border-bottom-color: var(--fill-color);\n",
              "    }\n",
              "    90% {\n",
              "      border-color: transparent;\n",
              "      border-bottom-color: var(--fill-color);\n",
              "    }\n",
              "  }\n",
              "</style>\n",
              "\n",
              "  <script>\n",
              "    async function quickchart(key) {\n",
              "      const quickchartButtonEl =\n",
              "        document.querySelector('#' + key + ' button');\n",
              "      quickchartButtonEl.disabled = true;  // To prevent multiple clicks.\n",
              "      quickchartButtonEl.classList.add('colab-df-spinner');\n",
              "      try {\n",
              "        const charts = await google.colab.kernel.invokeFunction(\n",
              "            'suggestCharts', [key], {});\n",
              "      } catch (error) {\n",
              "        console.error('Error during call to suggestCharts:', error);\n",
              "      }\n",
              "      quickchartButtonEl.classList.remove('colab-df-spinner');\n",
              "      quickchartButtonEl.classList.add('colab-df-quickchart-complete');\n",
              "    }\n",
              "    (() => {\n",
              "      let quickchartButtonEl =\n",
              "        document.querySelector('#df-38141708-ba8c-47d0-b251-7b8ac20a9c56 button');\n",
              "      quickchartButtonEl.style.display =\n",
              "        google.colab.kernel.accessAllowed ? 'block' : 'none';\n",
              "    })();\n",
              "  </script>\n",
              "</div>\n",
              "    </div>\n",
              "  </div>\n"
            ]
          },
          "metadata": {},
          "execution_count": 50
        }
      ],
      "source": [
        "summary = pd.DataFrame(model.history.history)\n",
        "summary.head()"
      ]
    },
    {
      "cell_type": "code",
      "execution_count": null,
      "metadata": {
        "colab": {
          "base_uri": "https://localhost:8080/",
          "height": 430
        },
        "id": "7cigrrimq7yC",
        "outputId": "a7df21b8-4491-4c31-f6bf-b7702933f704"
      },
      "outputs": [
        {
          "output_type": "display_data",
          "data": {
            "text/plain": [
              "<Figure size 640x480 with 1 Axes>"
            ],
            "image/png": "[encoded data removed]"
          },
          "metadata": {}
        }
      ],
      "source": [
        "summary.plot();"
      ]
    },
    {
      "cell_type": "code",
      "execution_count": null,
      "metadata": {
        "colab": {
          "base_uri": "https://localhost:8080/",
          "height": 430
        },
        "id": "W8tAgvwGq7yC",
        "outputId": "8b9be36b-cf8b-4379-fb0c-75c2ef32626b"
      },
      "outputs": [
        {
          "output_type": "display_data",
          "data": {
            "text/plain": [
              "<Figure size 640x480 with 1 Axes>"
            ],
            "image/png": "[encoded data removed]"
          },
          "metadata": {}
        }
      ],
      "source": [
        "summary[[\"loss\", \"val_loss\"]].plot();"
      ]
    },
    {
      "cell_type": "code",
      "execution_count": null,
      "metadata": {
        "colab": {
          "base_uri": "https://localhost:8080/",
          "height": 430
        },
        "id": "1sj58xlyq7yD",
        "outputId": "54246870-eaaa-4314-a511-fa06ae73931b"
      },
      "outputs": [
        {
          "output_type": "display_data",
          "data": {
            "text/plain": [
              "<Figure size 640x480 with 1 Axes>"
            ],
            "image/png": "[encoded data removed]"
          },
          "metadata": {}
        }
      ],
      "source": [
        "summary[[\"accuracy\", \"val_accuracy\"]].plot();"
      ]
    },
    {
      "cell_type": "markdown",
      "metadata": {
        "id": "1cJDJODPeZrk"
      },
      "source": [
        "## Model Evaluation\n"
      ]
    },
    {
      "cell_type": "code",
      "execution_count": null,
      "metadata": {
        "id": "3qZywTaf4Nay"
      },
      "outputs": [],
      "source": [
        "from sklearn.metrics import (\n",
        "    classification_report,\n",
        "    confusion_matrix,\n",
        "    multilabel_confusion_matrix,\n",
        ")"
      ]
    },
    {
      "cell_type": "code",
      "execution_count": null,
      "metadata": {
        "colab": {
          "base_uri": "https://localhost:8080/"
        },
        "id": "1naFYlgT35-S",
        "outputId": "d820d9e4-52f9-4564-ae3d-13dec457840f"
      },
      "outputs": [
        {
          "output_type": "stream",
          "name": "stdout",
          "text": [
            "313/313 [==============================] - 1s 2ms/step - loss: 0.4127 - accuracy: 0.8858\n"
          ]
        },
        {
          "output_type": "execute_result",
          "data": {
            "text/plain": [
              "[0.4126952588558197, 0.8858000040054321]"
            ]
          },
          "metadata": {},
          "execution_count": 55
        }
      ],
      "source": [
        "model.evaluate(X_test, Y_test)"
      ]
    },
    {
      "cell_type": "code",
      "execution_count": null,
      "metadata": {
        "colab": {
          "base_uri": "https://localhost:8080/"
        },
        "id": "3DyaGeFU46Hv",
        "outputId": "7362be1b-afa7-47eb-b0fd-5839f6a71be0"
      },
      "outputs": [
        {
          "output_type": "stream",
          "name": "stdout",
          "text": [
            "Test loss: 0.4126952588558197\n",
            "Test accuracy: 0.8858000040054321\n"
          ]
        }
      ],
      "source": [
        "score = model.evaluate(X_test, Y_test, verbose=0)\n",
        "print(\"Test loss:\", score[0])\n",
        "print(\"Test accuracy:\", score[1])"
      ]
    },
    {
      "cell_type": "markdown",
      "source": [
        "# Different models"
      ],
      "metadata": {
        "id": "GiZPYmZYsglb"
      }
    },
    {
      "cell_type": "markdown",
      "source": [
        "## Model 2"
      ],
      "metadata": {
        "id": "jOM_knVqQfVq"
      }
    },
    {
      "cell_type": "code",
      "execution_count": null,
      "metadata": {
        "id": "PdnhAOkseZrk"
      },
      "outputs": [],
      "source": [
        "from keras.models import Sequential\n",
        "from keras.layers import Conv2D, MaxPooling2D, Flatten, Dense, Dropout\n",
        "\n",
        "model2 = Sequential()\n",
        "\n",
        "model2.add(Conv2D(32, (3, 3), activation='relu', input_shape=(28, 28, 1)))\n",
        "model2.add(MaxPooling2D((2, 2)))\n",
        "\n",
        "model2.add(Conv2D(64, (3, 3), activation='relu'))\n",
        "model2.add(MaxPooling2D((2, 2)))\n",
        "\n",
        "model2.add(Flatten())\n",
        "\n",
        "model2.add(Dropout(0.5))  # Increased dropout for better regularization\n",
        "\n",
        "model2.add(Dense(64, activation='relu'))\n",
        "\n",
        "\n",
        "model2.add(Dense(10, activation='softmax'))\n",
        "\n",
        "model2.compile(loss=\"categorical_crossentropy\", optimizer=\"rmsprop\", metrics=[\"accuracy\"])\n"
      ]
    },
    {
      "cell_type": "code",
      "execution_count": null,
      "metadata": {
        "id": "HI-pcsjEeZrl",
        "colab": {
          "base_uri": "https://localhost:8080/"
        },
        "outputId": "1481f7b2-267e-4003-bb69-b13d9db4d198"
      },
      "outputs": [
        {
          "output_type": "stream",
          "name": "stdout",
          "text": [
            "Epoch 1/100\n",
            "469/469 [==============================] - 4s 7ms/step - loss: 0.6146 - accuracy: 0.7778 - val_loss: 0.4299 - val_accuracy: 0.8452\n",
            "Epoch 2/100\n",
            "469/469 [==============================] - 3s 7ms/step - loss: 0.4130 - accuracy: 0.8503 - val_loss: 0.3629 - val_accuracy: 0.8693\n",
            "Epoch 3/100\n",
            "469/469 [==============================] - 3s 5ms/step - loss: 0.3604 - accuracy: 0.8714 - val_loss: 0.3367 - val_accuracy: 0.8774\n",
            "Epoch 4/100\n",
            "469/469 [==============================] - 2s 5ms/step - loss: 0.3279 - accuracy: 0.8806 - val_loss: 0.3208 - val_accuracy: 0.8879\n",
            "Epoch 5/100\n",
            "469/469 [==============================] - 2s 5ms/step - loss: 0.3086 - accuracy: 0.8883 - val_loss: 0.3139 - val_accuracy: 0.8859\n",
            "Epoch 6/100\n",
            "469/469 [==============================] - 3s 6ms/step - loss: 0.2939 - accuracy: 0.8910 - val_loss: 0.3127 - val_accuracy: 0.8869\n",
            "Epoch 7/100\n",
            "469/469 [==============================] - 3s 6ms/step - loss: 0.2797 - accuracy: 0.8978 - val_loss: 0.2909 - val_accuracy: 0.8920\n",
            "Epoch 8/100\n",
            "469/469 [==============================] - 3s 6ms/step - loss: 0.2715 - accuracy: 0.9000 - val_loss: 0.2696 - val_accuracy: 0.9016\n",
            "Epoch 9/100\n",
            "469/469 [==============================] - 3s 6ms/step - loss: 0.2613 - accuracy: 0.9034 - val_loss: 0.2760 - val_accuracy: 0.8974\n",
            "Epoch 10/100\n",
            "469/469 [==============================] - 3s 6ms/step - loss: 0.2537 - accuracy: 0.9049 - val_loss: 0.2747 - val_accuracy: 0.8989\n",
            "Epoch 11/100\n",
            "469/469 [==============================] - 4s 9ms/step - loss: 0.2452 - accuracy: 0.9093 - val_loss: 0.2537 - val_accuracy: 0.9071\n",
            "Epoch 12/100\n",
            "469/469 [==============================] - 3s 5ms/step - loss: 0.2388 - accuracy: 0.9123 - val_loss: 0.2637 - val_accuracy: 0.9049\n",
            "Epoch 13/100\n",
            "469/469 [==============================] - 3s 6ms/step - loss: 0.2359 - accuracy: 0.9140 - val_loss: 0.2597 - val_accuracy: 0.9069\n",
            "Epoch 14/100\n",
            "469/469 [==============================] - 3s 6ms/step - loss: 0.2310 - accuracy: 0.9149 - val_loss: 0.2509 - val_accuracy: 0.9090\n",
            "Epoch 15/100\n",
            "469/469 [==============================] - 3s 6ms/step - loss: 0.2277 - accuracy: 0.9165 - val_loss: 0.2452 - val_accuracy: 0.9108\n",
            "Epoch 16/100\n",
            "469/469 [==============================] - 3s 5ms/step - loss: 0.2235 - accuracy: 0.9176 - val_loss: 0.2451 - val_accuracy: 0.9109\n",
            "Epoch 17/100\n",
            "469/469 [==============================] - 3s 5ms/step - loss: 0.2185 - accuracy: 0.9194 - val_loss: 0.2445 - val_accuracy: 0.9145\n",
            "Epoch 18/100\n",
            "469/469 [==============================] - 3s 6ms/step - loss: 0.2171 - accuracy: 0.9190 - val_loss: 0.2393 - val_accuracy: 0.9132\n",
            "Epoch 19/100\n",
            "469/469 [==============================] - 3s 6ms/step - loss: 0.2135 - accuracy: 0.9217 - val_loss: 0.2406 - val_accuracy: 0.9136\n",
            "Epoch 20/100\n",
            "469/469 [==============================] - 3s 6ms/step - loss: 0.2118 - accuracy: 0.9210 - val_loss: 0.2369 - val_accuracy: 0.9150\n",
            "Epoch 21/100\n",
            "469/469 [==============================] - 3s 5ms/step - loss: 0.2050 - accuracy: 0.9245 - val_loss: 0.2417 - val_accuracy: 0.9115\n",
            "Epoch 22/100\n",
            "469/469 [==============================] - 3s 5ms/step - loss: 0.2029 - accuracy: 0.9240 - val_loss: 0.2350 - val_accuracy: 0.9166\n",
            "Epoch 23/100\n",
            "469/469 [==============================] - 3s 5ms/step - loss: 0.2006 - accuracy: 0.9243 - val_loss: 0.2320 - val_accuracy: 0.9193\n",
            "Epoch 24/100\n",
            "469/469 [==============================] - 3s 6ms/step - loss: 0.1966 - accuracy: 0.9276 - val_loss: 0.2472 - val_accuracy: 0.9128\n",
            "Epoch 25/100\n",
            "469/469 [==============================] - 3s 6ms/step - loss: 0.1949 - accuracy: 0.9277 - val_loss: 0.2431 - val_accuracy: 0.9135\n",
            "Epoch 26/100\n",
            "469/469 [==============================] - 2s 5ms/step - loss: 0.1928 - accuracy: 0.9288 - val_loss: 0.2344 - val_accuracy: 0.9158\n",
            "Epoch 27/100\n",
            "469/469 [==============================] - 3s 5ms/step - loss: 0.1892 - accuracy: 0.9292 - val_loss: 0.2506 - val_accuracy: 0.9125\n",
            "Epoch 28/100\n",
            "469/469 [==============================] - 3s 6ms/step - loss: 0.1896 - accuracy: 0.9301 - val_loss: 0.2407 - val_accuracy: 0.9161\n",
            "Epoch 29/100\n",
            "469/469 [==============================] - 3s 7ms/step - loss: 0.1862 - accuracy: 0.9310 - val_loss: 0.2409 - val_accuracy: 0.9158\n",
            "Epoch 30/100\n",
            "469/469 [==============================] - 3s 5ms/step - loss: 0.1841 - accuracy: 0.9310 - val_loss: 0.2395 - val_accuracy: 0.9164\n",
            "Epoch 31/100\n",
            "469/469 [==============================] - 3s 6ms/step - loss: 0.1838 - accuracy: 0.9320 - val_loss: 0.2343 - val_accuracy: 0.9155\n",
            "Epoch 32/100\n",
            "469/469 [==============================] - 3s 6ms/step - loss: 0.1791 - accuracy: 0.9331 - val_loss: 0.2412 - val_accuracy: 0.9183\n",
            "Epoch 33/100\n",
            "469/469 [==============================] - 3s 6ms/step - loss: 0.1821 - accuracy: 0.9332 - val_loss: 0.2532 - val_accuracy: 0.9124\n",
            "Epoch 34/100\n",
            "469/469 [==============================] - 3s 6ms/step - loss: 0.1782 - accuracy: 0.9325 - val_loss: 0.2341 - val_accuracy: 0.9190\n",
            "Epoch 35/100\n",
            "469/469 [==============================] - 3s 5ms/step - loss: 0.1764 - accuracy: 0.9343 - val_loss: 0.2469 - val_accuracy: 0.9114\n",
            "Epoch 36/100\n",
            "469/469 [==============================] - 3s 6ms/step - loss: 0.1734 - accuracy: 0.9349 - val_loss: 0.2368 - val_accuracy: 0.9184\n"
          ]
        },
        {
          "output_type": "execute_result",
          "data": {
            "text/plain": [
              "<keras.src.callbacks.History at 0x7d0c56ab3fd0>"
            ]
          },
          "metadata": {},
          "execution_count": 67
        }
      ],
      "source": [
        "model2.fit(X_train,\n",
        "          Y_train,\n",
        "          batch_size=128,\n",
        "          epochs=100,\n",
        "          validation_data=(X_test, Y_test),\n",
        "          callbacks=[early_stop],\n",
        "          verbose=1)"
      ]
    },
    {
      "cell_type": "code",
      "execution_count": null,
      "metadata": {
        "colab": {
          "base_uri": "https://localhost:8080/"
        },
        "outputId": "6e65f883-e2c9-47e2-cd55-88803b41d1a6",
        "id": "WPAELt9H82Bs"
      },
      "outputs": [
        {
          "output_type": "stream",
          "name": "stdout",
          "text": [
            "313/313 [==============================] - 1s 2ms/step - loss: 0.2320 - accuracy: 0.9193\n"
          ]
        },
        {
          "output_type": "execute_result",
          "data": {
            "text/plain": [
              "[0.23203928768634796, 0.9193000197410583]"
            ]
          },
          "metadata": {},
          "execution_count": 68
        }
      ],
      "source": [
        "model2.evaluate(X_test, Y_test)"
      ]
    },
    {
      "cell_type": "code",
      "execution_count": null,
      "metadata": {
        "colab": {
          "base_uri": "https://localhost:8080/"
        },
        "outputId": "31b8e751-0306-4ac0-cc87-7f69700b04fb",
        "id": "yR_FnYDF82Bs"
      },
      "outputs": [
        {
          "output_type": "stream",
          "name": "stdout",
          "text": [
            "Test loss: 0.23203928768634796\n",
            "Test accuracy: 0.9193000197410583\n"
          ]
        }
      ],
      "source": [
        "score = model2.evaluate(X_test, Y_test, verbose=0)\n",
        "print(\"Test loss:\", score[0])\n",
        "print(\"Test accuracy:\", score[1])"
      ]
    },
    {
      "cell_type": "markdown",
      "source": [
        "## Model 3"
      ],
      "metadata": {
        "id": "M9xk-Azns7lz"
      }
    },
    {
      "cell_type": "code",
      "source": [
        "cnn_model = Sequential([\n",
        "    Conv2D(filters=32,kernel_size=3,activation='relu', input_shape=(28, 28, 1)),\n",
        "    MaxPooling2D(pool_size=2) ,# down sampling the output instead of 28*28 it is 14*14\n",
        "    Dropout(0.2),\n",
        "    Flatten(), # flatten out the layers\n",
        "    Dense(32,activation='relu'),\n",
        "    Dense(10,activation = 'softmax')\n",
        "\n",
        "])\n",
        "\n",
        "# cnn_model.compile(loss='sparse_categorical_crossentropy', optimizer=keras.optimizers.Adam(learning_rate=0.001), metrics=['accuracy'])\n",
        "cnn_model.compile(loss=\"categorical_crossentropy\", optimizer=\"adam\", metrics=[\"accuracy\"])\n",
        "\n",
        "\n",
        "\n",
        "cnn_model.fit(X_train,\n",
        "          Y_train,\n",
        "          batch_size=128,\n",
        "          epochs=4096,\n",
        "          validation_data=(X_test, Y_test),\n",
        "          callbacks=[early_stop],\n",
        "          verbose=2)"
      ],
      "metadata": {
        "colab": {
          "base_uri": "https://localhost:8080/"
        },
        "id": "QYUgqfsItQ1B",
        "outputId": "91fa205e-377e-492b-f4eb-7046c7350892"
      },
      "execution_count": null,
      "outputs": [
        {
          "output_type": "stream",
          "name": "stdout",
          "text": [
            "Epoch 1/4096\n",
            "469/469 - 4s - loss: 0.5205 - accuracy: 0.8199 - val_loss: 0.4273 - val_accuracy: 0.8434 - 4s/epoch - 8ms/step\n",
            "Epoch 2/4096\n",
            "469/469 - 2s - loss: 0.3416 - accuracy: 0.8809 - val_loss: 0.3395 - val_accuracy: 0.8765 - 2s/epoch - 4ms/step\n",
            "Epoch 3/4096\n",
            "469/469 - 2s - loss: 0.3032 - accuracy: 0.8934 - val_loss: 0.3087 - val_accuracy: 0.8895 - 2s/epoch - 5ms/step\n",
            "Epoch 4/4096\n",
            "469/469 - 2s - loss: 0.2810 - accuracy: 0.9009 - val_loss: 0.2916 - val_accuracy: 0.8944 - 2s/epoch - 4ms/step\n",
            "Epoch 5/4096\n",
            "469/469 - 2s - loss: 0.2627 - accuracy: 0.9067 - val_loss: 0.2919 - val_accuracy: 0.8954 - 2s/epoch - 4ms/step\n",
            "Epoch 6/4096\n",
            "469/469 - 2s - loss: 0.2498 - accuracy: 0.9086 - val_loss: 0.2885 - val_accuracy: 0.8936 - 2s/epoch - 4ms/step\n",
            "Epoch 7/4096\n",
            "469/469 - 2s - loss: 0.2374 - accuracy: 0.9139 - val_loss: 0.2724 - val_accuracy: 0.9003 - 2s/epoch - 5ms/step\n",
            "Epoch 8/4096\n",
            "469/469 - 2s - loss: 0.2250 - accuracy: 0.9191 - val_loss: 0.2733 - val_accuracy: 0.9045 - 2s/epoch - 4ms/step\n",
            "Epoch 9/4096\n",
            "469/469 - 2s - loss: 0.2140 - accuracy: 0.9225 - val_loss: 0.2595 - val_accuracy: 0.9069 - 2s/epoch - 4ms/step\n",
            "Epoch 10/4096\n",
            "469/469 - 2s - loss: 0.2105 - accuracy: 0.9241 - val_loss: 0.2617 - val_accuracy: 0.9070 - 2s/epoch - 4ms/step\n",
            "Epoch 11/4096\n",
            "469/469 - 2s - loss: 0.2012 - accuracy: 0.9259 - val_loss: 0.2552 - val_accuracy: 0.9085 - 2s/epoch - 4ms/step\n",
            "Epoch 12/4096\n",
            "469/469 - 2s - loss: 0.1929 - accuracy: 0.9296 - val_loss: 0.2734 - val_accuracy: 0.9096 - 2s/epoch - 4ms/step\n",
            "Epoch 13/4096\n",
            "469/469 - 2s - loss: 0.1885 - accuracy: 0.9315 - val_loss: 0.2583 - val_accuracy: 0.9098 - 2s/epoch - 5ms/step\n",
            "Epoch 14/4096\n",
            "469/469 - 2s - loss: 0.1824 - accuracy: 0.9331 - val_loss: 0.2590 - val_accuracy: 0.9117 - 2s/epoch - 5ms/step\n",
            "Epoch 15/4096\n",
            "469/469 - 2s - loss: 0.1758 - accuracy: 0.9351 - val_loss: 0.2558 - val_accuracy: 0.9119 - 2s/epoch - 4ms/step\n",
            "Epoch 16/4096\n",
            "469/469 - 2s - loss: 0.1710 - accuracy: 0.9380 - val_loss: 0.2539 - val_accuracy: 0.9154 - 2s/epoch - 4ms/step\n",
            "Epoch 17/4096\n",
            "469/469 - 2s - loss: 0.1667 - accuracy: 0.9395 - val_loss: 0.2589 - val_accuracy: 0.9129 - 2s/epoch - 4ms/step\n",
            "Epoch 18/4096\n",
            "469/469 - 2s - loss: 0.1615 - accuracy: 0.9403 - val_loss: 0.2520 - val_accuracy: 0.9155 - 2s/epoch - 4ms/step\n",
            "Epoch 19/4096\n",
            "469/469 - 2s - loss: 0.1541 - accuracy: 0.9435 - val_loss: 0.2654 - val_accuracy: 0.9129 - 2s/epoch - 5ms/step\n",
            "Epoch 20/4096\n",
            "469/469 - 2s - loss: 0.1508 - accuracy: 0.9446 - val_loss: 0.2725 - val_accuracy: 0.9134 - 2s/epoch - 4ms/step\n",
            "Epoch 21/4096\n",
            "469/469 - 2s - loss: 0.1488 - accuracy: 0.9449 - val_loss: 0.2678 - val_accuracy: 0.9136 - 2s/epoch - 4ms/step\n",
            "Epoch 22/4096\n",
            "469/469 - 2s - loss: 0.1458 - accuracy: 0.9461 - val_loss: 0.2624 - val_accuracy: 0.9167 - 2s/epoch - 4ms/step\n",
            "Epoch 23/4096\n",
            "469/469 - 2s - loss: 0.1434 - accuracy: 0.9468 - val_loss: 0.2687 - val_accuracy: 0.9154 - 2s/epoch - 4ms/step\n",
            "Epoch 24/4096\n",
            "469/469 - 2s - loss: 0.1374 - accuracy: 0.9497 - val_loss: 0.2703 - val_accuracy: 0.9150 - 2s/epoch - 4ms/step\n",
            "Epoch 25/4096\n",
            "469/469 - 2s - loss: 0.1339 - accuracy: 0.9505 - val_loss: 0.2700 - val_accuracy: 0.9168 - 2s/epoch - 5ms/step\n",
            "Epoch 26/4096\n",
            "469/469 - 2s - loss: 0.1321 - accuracy: 0.9513 - val_loss: 0.2731 - val_accuracy: 0.9152 - 2s/epoch - 5ms/step\n",
            "Epoch 27/4096\n",
            "469/469 - 2s - loss: 0.1294 - accuracy: 0.9523 - val_loss: 0.2743 - val_accuracy: 0.9139 - 2s/epoch - 4ms/step\n",
            "Epoch 28/4096\n",
            "469/469 - 2s - loss: 0.1265 - accuracy: 0.9531 - val_loss: 0.2835 - val_accuracy: 0.9146 - 2s/epoch - 4ms/step\n",
            "Epoch 29/4096\n",
            "469/469 - 2s - loss: 0.1223 - accuracy: 0.9550 - val_loss: 0.2973 - val_accuracy: 0.9132 - 2s/epoch - 4ms/step\n",
            "Epoch 30/4096\n",
            "469/469 - 2s - loss: 0.1202 - accuracy: 0.9550 - val_loss: 0.2881 - val_accuracy: 0.9108 - 2s/epoch - 4ms/step\n",
            "Epoch 31/4096\n",
            "469/469 - 2s - loss: 0.1185 - accuracy: 0.9562 - val_loss: 0.2846 - val_accuracy: 0.9168 - 2s/epoch - 5ms/step\n",
            "Epoch 32/4096\n",
            "469/469 - 2s - loss: 0.1159 - accuracy: 0.9564 - val_loss: 0.2851 - val_accuracy: 0.9192 - 2s/epoch - 4ms/step\n",
            "Epoch 33/4096\n",
            "469/469 - 2s - loss: 0.1126 - accuracy: 0.9578 - val_loss: 0.2899 - val_accuracy: 0.9143 - 2s/epoch - 4ms/step\n",
            "Epoch 34/4096\n",
            "469/469 - 2s - loss: 0.1110 - accuracy: 0.9580 - val_loss: 0.2984 - val_accuracy: 0.9149 - 2s/epoch - 4ms/step\n",
            "Epoch 35/4096\n",
            "469/469 - 2s - loss: 0.1080 - accuracy: 0.9596 - val_loss: 0.2943 - val_accuracy: 0.9160 - 2s/epoch - 4ms/step\n",
            "Epoch 36/4096\n",
            "469/469 - 2s - loss: 0.1081 - accuracy: 0.9596 - val_loss: 0.3002 - val_accuracy: 0.9152 - 2s/epoch - 4ms/step\n",
            "Epoch 37/4096\n",
            "469/469 - 2s - loss: 0.1066 - accuracy: 0.9599 - val_loss: 0.3022 - val_accuracy: 0.9152 - 2s/epoch - 5ms/step\n",
            "Epoch 38/4096\n",
            "469/469 - 2s - loss: 0.1039 - accuracy: 0.9615 - val_loss: 0.3075 - val_accuracy: 0.9132 - 2s/epoch - 4ms/step\n",
            "Epoch 39/4096\n",
            "469/469 - 2s - loss: 0.1020 - accuracy: 0.9624 - val_loss: 0.2992 - val_accuracy: 0.9167 - 2s/epoch - 4ms/step\n",
            "Epoch 40/4096\n",
            "469/469 - 2s - loss: 0.1014 - accuracy: 0.9619 - val_loss: 0.3151 - val_accuracy: 0.9135 - 2s/epoch - 4ms/step\n",
            "Epoch 41/4096\n",
            "469/469 - 2s - loss: 0.1000 - accuracy: 0.9627 - val_loss: 0.3159 - val_accuracy: 0.9144 - 2s/epoch - 4ms/step\n",
            "Epoch 42/4096\n",
            "469/469 - 2s - loss: 0.0984 - accuracy: 0.9636 - val_loss: 0.3144 - val_accuracy: 0.9146 - 2s/epoch - 4ms/step\n",
            "Epoch 43/4096\n",
            "469/469 - 2s - loss: 0.0979 - accuracy: 0.9630 - val_loss: 0.3130 - val_accuracy: 0.9135 - 2s/epoch - 5ms/step\n",
            "Epoch 44/4096\n",
            "469/469 - 2s - loss: 0.0950 - accuracy: 0.9646 - val_loss: 0.3156 - val_accuracy: 0.9121 - 2s/epoch - 4ms/step\n",
            "Epoch 45/4096\n",
            "469/469 - 2s - loss: 0.0947 - accuracy: 0.9645 - val_loss: 0.3107 - val_accuracy: 0.9141 - 2s/epoch - 4ms/step\n"
          ]
        },
        {
          "output_type": "execute_result",
          "data": {
            "text/plain": [
              "<keras.src.callbacks.History at 0x7d0c645b4ca0>"
            ]
          },
          "metadata": {},
          "execution_count": 41
        }
      ]
    },
    {
      "cell_type": "code",
      "execution_count": null,
      "metadata": {
        "colab": {
          "base_uri": "https://localhost:8080/"
        },
        "outputId": "ccf423f6-c81d-4760-d96b-eefeb682af4b",
        "id": "VFSuM2lq9SVM"
      },
      "outputs": [
        {
          "output_type": "stream",
          "name": "stdout",
          "text": [
            "313/313 [==============================] - 1s 2ms/step - loss: 0.2851 - accuracy: 0.9192\n"
          ]
        },
        {
          "output_type": "execute_result",
          "data": {
            "text/plain": [
              "[0.28511467576026917, 0.9192000031471252]"
            ]
          },
          "metadata": {},
          "execution_count": 42
        }
      ],
      "source": [
        "cnn_model.evaluate(X_test, Y_test)"
      ]
    },
    {
      "cell_type": "code",
      "execution_count": null,
      "metadata": {
        "colab": {
          "base_uri": "https://localhost:8080/"
        },
        "outputId": "132cc862-94f1-411d-d82d-f1a3044c386e",
        "id": "HHGWkNnX9SVN"
      },
      "outputs": [
        {
          "output_type": "stream",
          "name": "stdout",
          "text": [
            "Test loss: 0.28511467576026917\n",
            "Test accuracy: 0.9192000031471252\n"
          ]
        }
      ],
      "source": [
        "score = cnn_model.evaluate(X_test, Y_test, verbose=0)\n",
        "print(\"Test loss:\", score[0])\n",
        "print(\"Test accuracy:\", score[1])"
      ]
    },
    {
      "cell_type": "markdown",
      "metadata": {
        "id": "SSesthwOeZrm"
      },
      "source": [
        "## Prediction"
      ]
    },
    {
      "cell_type": "code",
      "execution_count": 192,
      "metadata": {
        "id": "WduIUJj64rIp"
      },
      "outputs": [],
      "source": [
        "image = X_test[15]\n",
        "image /= 255.0"
      ]
    },
    {
      "cell_type": "code",
      "execution_count": 193,
      "metadata": {
        "colab": {
          "base_uri": "https://localhost:8080/",
          "height": 430
        },
        "id": "18_nBUbAN1fh",
        "outputId": "3085af98-00f5-4cf5-c4b3-1ffebcc5300c"
      },
      "outputs": [
        {
          "output_type": "display_data",
          "data": {
            "text/plain": [
              "<Figure size 640x480 with 1 Axes>"
            ],
            "image/png": "[encoded data removed]"
          },
          "metadata": {}
        }
      ],
      "source": [
        "plt.imshow(image, cmap=\"gray\")\n",
        "plt.show()"
      ]
    },
    {
      "cell_type": "code",
      "execution_count": 194,
      "metadata": {
        "id": "lA9VjUSdeJG-",
        "outputId": "68b9d693-0b7c-455a-9d34-35bac4cc6bef",
        "colab": {
          "base_uri": "https://localhost:8080/"
        }
      },
      "outputs": [
        {
          "output_type": "execute_result",
          "data": {
            "text/plain": [
              "(1, 28, 28, 1)"
            ]
          },
          "metadata": {},
          "execution_count": 194
        }
      ],
      "source": [
        "np.expand_dims(image, 0).shape"
      ]
    },
    {
      "cell_type": "code",
      "execution_count": 195,
      "metadata": {
        "colab": {
          "base_uri": "https://localhost:8080/"
        },
        "id": "1DCFzSFtOGZF",
        "outputId": "7c1ead9a-579b-47bd-cc7e-d42f146a4387"
      },
      "outputs": [
        {
          "output_type": "stream",
          "name": "stdout",
          "text": [
            "1/1 [==============================] - 0s 26ms/step\n"
          ]
        },
        {
          "output_type": "execute_result",
          "data": {
            "text/plain": [
              "array([[0.04651942, 0.02390541, 0.01286201, 0.02171597, 0.01033799,\n",
              "        0.37974706, 0.02685972, 0.18047127, 0.17525232, 0.12232881]],\n",
              "      dtype=float32)"
            ]
          },
          "metadata": {},
          "execution_count": 195
        }
      ],
      "source": [
        "pred_prob = model2.predict(np.expand_dims(image, 0))\n",
        "pred_prob"
      ]
    },
    {
      "cell_type": "code",
      "execution_count": 199,
      "metadata": {
        "id": "zetmO1KEN4ro"
      },
      "outputs": [],
      "source": [
        "# SHAPE --> (num_images, width, height, color_channels)\n",
        "y_pred = np.argmax(pred_prob)"
      ]
    },
    {
      "cell_type": "code",
      "source": [
        "pred = model.predict(np.expand_dims(image, 0))"
      ],
      "metadata": {
        "colab": {
          "base_uri": "https://localhost:8080/"
        },
        "id": "lZDLZa8STqmu",
        "outputId": "b092616e-573b-40b8-b4bf-50f94e491379"
      },
      "execution_count": 197,
      "outputs": [
        {
          "output_type": "stream",
          "name": "stdout",
          "text": [
            "1/1 [==============================] - 0s 24ms/step\n"
          ]
        }
      ]
    },
    {
      "cell_type": "code",
      "source": [
        "np.argmax(pred)"
      ],
      "metadata": {
        "colab": {
          "base_uri": "https://localhost:8080/"
        },
        "id": "yyRCK191Ts-0",
        "outputId": "ce4b69e0-c26b-4508-de64-67f8c15314ce"
      },
      "execution_count": 198,
      "outputs": [
        {
          "output_type": "execute_result",
          "data": {
            "text/plain": [
              "7"
            ]
          },
          "metadata": {},
          "execution_count": 198
        }
      ]
    },
    {
      "cell_type": "code",
      "execution_count": 175,
      "metadata": {
        "id": "BEfvXDTTeZrm",
        "colab": {
          "base_uri": "https://localhost:8080/"
        },
        "outputId": "f236b0c5-f534-4742-f1d6-53db79d5a763"
      },
      "outputs": [
        {
          "output_type": "execute_result",
          "data": {
            "text/plain": [
              "['T-shirt/top',\n",
              " 'Trouser',\n",
              " 'Pullover',\n",
              " 'Dress',\n",
              " 'Coat',\n",
              " 'Sandal',\n",
              " 'Shirt',\n",
              " 'Sneaker',\n",
              " 'Bag',\n",
              " 'Ankle boot']"
            ]
          },
          "metadata": {},
          "execution_count": 175
        }
      ],
      "source": [
        "classes"
      ]
    },
    {
      "cell_type": "markdown",
      "metadata": {
        "id": "jxi2EaLmeZrm"
      },
      "source": [
        "# End of Assignment"
      ]
    },
    {
      "cell_type": "markdown",
      "metadata": {
        "id": "LNA7Bq00eZrm"
      },
      "source": [
        "___\n",
        "\n",
        "<p style=\"text-align: center;\"><img src=\"https://docs.google.com/uc?id=1lY0Uj5R04yMY3-ZppPWxqCr5pvBLYPnV\" class=\"img-fluid\" alt=\"CLRSWY\"></p>\n",
        "\n",
        "___"
      ]
    }
  ],
  "metadata": {
    "kernelspec": {
      "display_name": "Python 3",
      "name": "python3"
    },
    "language_info": {
      "codemirror_mode": {
        "name": "ipython",
        "version": 3
      },
      "file_extension": ".py",
      "mimetype": "text/x-python",
      "name": "python",
      "nbconvert_exporter": "python",
      "pygments_lexer": "ipython3",
      "version": "3.7.6"
    },
    "toc": {
      "base_numbering": 1,
      "nav_menu": {},
      "number_sections": false,
      "sideBar": true,
      "skip_h1_title": false,
      "title_cell": "Table of Contents",
      "title_sidebar": "Contents",
      "toc_cell": false,
      "toc_position": {},
      "toc_section_display": true,
      "toc_window_display": true
    },
    "colab": {
      "provenance": [],
      "collapsed_sections": [
        "jxi2EaLmeZrm"
      ],
      "gpuType": "T4",
      "include_colab_link": true
    },
    "accelerator": "GPU"
  },
  "nbformat": 4,
  "nbformat_minor": 0
}